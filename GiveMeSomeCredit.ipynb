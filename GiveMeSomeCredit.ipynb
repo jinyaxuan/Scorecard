{
 "cells": [
  {
   "cell_type": "markdown",
   "metadata": {},
   "source": [
    "#### 信用评分卡模型是一种比较成熟的预测方法，广泛应用于信用风险评估以及金融风险控制等领域，其基本原理是：将模型变量以WOE编码方式离散化之后运用 logistic 回归模型进行二分类变量的拟合及预测。\n",
    "信用评分卡一般可以分为申请评分卡、行为评分卡、催收评分卡等。本文主要讲述申请评分卡模型的建模分析过程。\n",
    "主要分以下几个步骤：\n",
    "1. 目标定义\n",
    "2. 数据获取\n",
    "3. 数据预处理\n",
    "4. 模型开发\n",
    "5. 模型评估\n",
    "6. 评分系统建立"
   ]
  },
  {
   "cell_type": "markdown",
   "metadata": {},
   "source": [
    "### 1. 目标定义\n",
    "数据来源kaggle project: ‘give-me-some-credit-dataset’，\n",
    "找出关键的特征变量，建立信用评分模型"
   ]
  },
  {
   "cell_type": "markdown",
   "metadata": {},
   "source": [
    "### 2. 数据获取"
   ]
  },
  {
   "cell_type": "code",
   "execution_count": 1,
   "metadata": {},
   "outputs": [],
   "source": [
    "#导入必要的库包\n",
    "import numpy as np\n",
    "import pandas as pd\n",
    "import matplotlib.pyplot as plt\n",
    "import seaborn as sns\n",
    "from sklearn.ensemble import RandomForestRegressor\n",
    "\n",
    "import warnings\n",
    "warnings.filterwarnings('ignore')\n",
    "%matplotlib inline"
   ]
  },
  {
   "cell_type": "code",
   "execution_count": 2,
   "metadata": {},
   "outputs": [
    {
     "data": {
      "text/html": [
       "<div>\n",
       "<style scoped>\n",
       "    .dataframe tbody tr th:only-of-type {\n",
       "        vertical-align: middle;\n",
       "    }\n",
       "\n",
       "    .dataframe tbody tr th {\n",
       "        vertical-align: top;\n",
       "    }\n",
       "\n",
       "    .dataframe thead th {\n",
       "        text-align: right;\n",
       "    }\n",
       "</style>\n",
       "<table border=\"1\" class=\"dataframe\">\n",
       "  <thead>\n",
       "    <tr style=\"text-align: right;\">\n",
       "      <th></th>\n",
       "      <th>SeriousDlqin2yrs</th>\n",
       "      <th>RevolvingUtilizationOfUnsecuredLines</th>\n",
       "      <th>age</th>\n",
       "      <th>NumberOfTime30-59DaysPastDueNotWorse</th>\n",
       "      <th>DebtRatio</th>\n",
       "      <th>MonthlyIncome</th>\n",
       "      <th>NumberOfOpenCreditLinesAndLoans</th>\n",
       "      <th>NumberOfTimes90DaysLate</th>\n",
       "      <th>NumberRealEstateLoansOrLines</th>\n",
       "      <th>NumberOfTime60-89DaysPastDueNotWorse</th>\n",
       "      <th>NumberOfDependents</th>\n",
       "    </tr>\n",
       "  </thead>\n",
       "  <tbody>\n",
       "    <tr>\n",
       "      <th>0</th>\n",
       "      <td>1</td>\n",
       "      <td>0.766127</td>\n",
       "      <td>45</td>\n",
       "      <td>2</td>\n",
       "      <td>0.802982</td>\n",
       "      <td>9120.0</td>\n",
       "      <td>13</td>\n",
       "      <td>0</td>\n",
       "      <td>6</td>\n",
       "      <td>0</td>\n",
       "      <td>2.0</td>\n",
       "    </tr>\n",
       "    <tr>\n",
       "      <th>1</th>\n",
       "      <td>0</td>\n",
       "      <td>0.957151</td>\n",
       "      <td>40</td>\n",
       "      <td>0</td>\n",
       "      <td>0.121876</td>\n",
       "      <td>2600.0</td>\n",
       "      <td>4</td>\n",
       "      <td>0</td>\n",
       "      <td>0</td>\n",
       "      <td>0</td>\n",
       "      <td>1.0</td>\n",
       "    </tr>\n",
       "    <tr>\n",
       "      <th>2</th>\n",
       "      <td>0</td>\n",
       "      <td>0.658180</td>\n",
       "      <td>38</td>\n",
       "      <td>1</td>\n",
       "      <td>0.085113</td>\n",
       "      <td>3042.0</td>\n",
       "      <td>2</td>\n",
       "      <td>1</td>\n",
       "      <td>0</td>\n",
       "      <td>0</td>\n",
       "      <td>0.0</td>\n",
       "    </tr>\n",
       "    <tr>\n",
       "      <th>3</th>\n",
       "      <td>0</td>\n",
       "      <td>0.233810</td>\n",
       "      <td>30</td>\n",
       "      <td>0</td>\n",
       "      <td>0.036050</td>\n",
       "      <td>3300.0</td>\n",
       "      <td>5</td>\n",
       "      <td>0</td>\n",
       "      <td>0</td>\n",
       "      <td>0</td>\n",
       "      <td>0.0</td>\n",
       "    </tr>\n",
       "    <tr>\n",
       "      <th>4</th>\n",
       "      <td>0</td>\n",
       "      <td>0.907239</td>\n",
       "      <td>49</td>\n",
       "      <td>1</td>\n",
       "      <td>0.024926</td>\n",
       "      <td>63588.0</td>\n",
       "      <td>7</td>\n",
       "      <td>0</td>\n",
       "      <td>1</td>\n",
       "      <td>0</td>\n",
       "      <td>0.0</td>\n",
       "    </tr>\n",
       "  </tbody>\n",
       "</table>\n",
       "</div>"
      ],
      "text/plain": [
       "   SeriousDlqin2yrs  RevolvingUtilizationOfUnsecuredLines  age  \\\n",
       "0                 1                              0.766127   45   \n",
       "1                 0                              0.957151   40   \n",
       "2                 0                              0.658180   38   \n",
       "3                 0                              0.233810   30   \n",
       "4                 0                              0.907239   49   \n",
       "\n",
       "   NumberOfTime30-59DaysPastDueNotWorse  DebtRatio  MonthlyIncome  \\\n",
       "0                                     2   0.802982         9120.0   \n",
       "1                                     0   0.121876         2600.0   \n",
       "2                                     1   0.085113         3042.0   \n",
       "3                                     0   0.036050         3300.0   \n",
       "4                                     1   0.024926        63588.0   \n",
       "\n",
       "   NumberOfOpenCreditLinesAndLoans  NumberOfTimes90DaysLate  \\\n",
       "0                               13                        0   \n",
       "1                                4                        0   \n",
       "2                                2                        1   \n",
       "3                                5                        0   \n",
       "4                                7                        0   \n",
       "\n",
       "   NumberRealEstateLoansOrLines  NumberOfTime60-89DaysPastDueNotWorse  \\\n",
       "0                             6                                     0   \n",
       "1                             0                                     0   \n",
       "2                             0                                     0   \n",
       "3                             0                                     0   \n",
       "4                             1                                     0   \n",
       "\n",
       "   NumberOfDependents  \n",
       "0                 2.0  \n",
       "1                 1.0  \n",
       "2                 0.0  \n",
       "3                 0.0  \n",
       "4                 0.0  "
      ]
     },
     "execution_count": 2,
     "metadata": {},
     "output_type": "execute_result"
    }
   ],
   "source": [
    "#读取数据\n",
    "data=pd.read_csv('cs-training.csv')\n",
    "data=data.drop(axis=1, columns=[data.columns[0]])\n",
    "data.head()"
   ]
  },
  {
   "cell_type": "code",
   "execution_count": 3,
   "metadata": {
    "scrolled": true
   },
   "outputs": [
    {
     "name": "stdout",
     "output_type": "stream",
     "text": [
      "<class 'pandas.core.frame.DataFrame'>\n",
      "RangeIndex: 150000 entries, 0 to 149999\n",
      "Data columns (total 11 columns):\n",
      "SeriousDlqin2yrs                        150000 non-null int64\n",
      "RevolvingUtilizationOfUnsecuredLines    150000 non-null float64\n",
      "age                                     150000 non-null int64\n",
      "NumberOfTime30-59DaysPastDueNotWorse    150000 non-null int64\n",
      "DebtRatio                               150000 non-null float64\n",
      "MonthlyIncome                           120269 non-null float64\n",
      "NumberOfOpenCreditLinesAndLoans         150000 non-null int64\n",
      "NumberOfTimes90DaysLate                 150000 non-null int64\n",
      "NumberRealEstateLoansOrLines            150000 non-null int64\n",
      "NumberOfTime60-89DaysPastDueNotWorse    150000 non-null int64\n",
      "NumberOfDependents                      146076 non-null float64\n",
      "dtypes: float64(4), int64(7)\n",
      "memory usage: 12.6 MB\n"
     ]
    }
   ],
   "source": [
    "data.info()"
   ]
  },
  {
   "cell_type": "markdown",
   "metadata": {},
   "source": [
    "### 3. 数据预处理"
   ]
  },
  {
   "cell_type": "code",
   "execution_count": 4,
   "metadata": {},
   "outputs": [
    {
     "name": "stdout",
     "output_type": "stream",
     "text": [
      "Done\n"
     ]
    }
   ],
   "source": [
    "#缺失值处理 \n",
    "#随机森林法填补MonthlyIncome\n",
    "MI_df=data.iloc[:,0:10]\n",
    "MI_known=MI_df.loc[MI_df['MonthlyIncome'].notnull()]\n",
    "MI_unknown=MI_df.loc[MI_df['MonthlyIncome'].isnull()]\n",
    "X_known=MI_known.drop('MonthlyIncome',axis=1)\n",
    "y_known=MI_known['MonthlyIncome']\n",
    "X_unknown=MI_unknown.drop('MonthlyIncome',axis=1)\n",
    "\n",
    "rfr=RandomForestRegressor(random_state=0, n_estimators=100, max_depth=3, n_jobs=-1)\n",
    "rfr.fit(X_known, y_known)\n",
    "\n",
    "data.loc[MI_df['MonthlyIncome'].isnull(), 'MonthlyIncome']=rfr.predict(X_unknown).round(0)\n",
    "print('Done')"
   ]
  },
  {
   "cell_type": "code",
   "execution_count": 5,
   "metadata": {},
   "outputs": [],
   "source": [
    "#NumberOfDependents 缺失值较少，可以直接删除\n",
    "data.dropna(inplace=True)\n",
    "#去除重复值\n",
    "data.drop_duplicates(inplace=True)"
   ]
  },
  {
   "cell_type": "code",
   "execution_count": 6,
   "metadata": {},
   "outputs": [
    {
     "data": {
      "text/plain": [
       "<matplotlib.axes._subplots.AxesSubplot at 0x10e034cc0>"
      ]
     },
     "execution_count": 6,
     "metadata": {},
     "output_type": "execute_result"
    },
    {
     "data": {
      "image/png": "[encoded data removed]",
      "text/plain": [
       "<Figure size 432x288 with 1 Axes>"
      ]
     },
     "metadata": {},
     "output_type": "display_data"
    }
   ],
   "source": [
    "#异常值处理\n",
    "sns.boxplot(y='age', data=data)"
   ]
  },
  {
   "cell_type": "code",
   "execution_count": 7,
   "metadata": {},
   "outputs": [],
   "source": [
    "data=data[((data['age']>0) & (data['age']<100))]"
   ]
  },
  {
   "cell_type": "code",
   "execution_count": 8,
   "metadata": {},
   "outputs": [
    {
     "data": {
      "text/plain": [
       "(array([0, 1, 2]), <a list of 3 Text xticklabel objects>)"
      ]
     },
     "execution_count": 8,
     "metadata": {},
     "output_type": "execute_result"
    },
    {
     "data": {
      "image/png": "[encoded data removed]",
      "text/plain": [
       "<Figure size 432x288 with 1 Axes>"
      ]
     },
     "metadata": {},
     "output_type": "display_data"
    }
   ],
   "source": [
    "#逾期次数\n",
    "sns.boxplot(data=data[['NumberOfTime30-59DaysPastDueNotWorse','NumberOfTimes90DaysLate','NumberOfTime60-89DaysPastDueNotWorse']], palette='Set2')\n",
    "plt.xticks(rotation=20)"
   ]
  },
  {
   "cell_type": "code",
   "execution_count": 9,
   "metadata": {},
   "outputs": [
    {
     "data": {
      "text/plain": [
       "(array([0, 1, 2]), <a list of 3 Text xticklabel objects>)"
      ]
     },
     "execution_count": 9,
     "metadata": {},
     "output_type": "execute_result"
    },
    {
     "data": {
      "image/png": "[encoded data removed]",
      "text/plain": [
       "<Figure size 432x288 with 1 Axes>"
      ]
     },
     "metadata": {},
     "output_type": "display_data"
    }
   ],
   "source": [
    "data=data[data['NumberOfTime30-59DaysPastDueNotWorse']<80]\n",
    "#再次检查异常点\n",
    "sns.boxplot(data=data[['NumberOfTime30-59DaysPastDueNotWorse','NumberOfTimes90DaysLate','NumberOfTime60-89DaysPastDueNotWorse']], palette='Set2')\n",
    "plt.xticks(rotation=20)"
   ]
  },
  {
   "cell_type": "code",
   "execution_count": 10,
   "metadata": {},
   "outputs": [
    {
     "data": {
      "text/plain": [
       "<matplotlib.axes._subplots.AxesSubplot at 0x10f596b70>"
      ]
     },
     "execution_count": 10,
     "metadata": {},
     "output_type": "execute_result"
    },
    {
     "data": {
      "image/png": "[encoded data removed]",
      "text/plain": [
       "<Figure size 432x288 with 1 Axes>"
      ]
     },
     "metadata": {},
     "output_type": "display_data"
    }
   ],
   "source": [
    "#月收入和年龄变量的分布\n",
    "sns.boxplot(x='MonthlyIncome', data=data)"
   ]
  },
  {
   "cell_type": "code",
   "execution_count": 11,
   "metadata": {},
   "outputs": [
    {
     "name": "stdout",
     "output_type": "stream",
     "text": [
      "99.69% of customers monthly income under 40000.\n"
     ]
    },
    {
     "data": {
      "text/plain": [
       "<matplotlib.axes._subplots.AxesSubplot at 0x107f14048>"
      ]
     },
     "execution_count": 11,
     "metadata": {},
     "output_type": "execute_result"
    },
    {
     "data": {
      "image/png": "[encoded data removed]",
      "text/plain": [
       "<Figure size 432x288 with 1 Axes>"
      ]
     },
     "metadata": {},
     "output_type": "display_data"
    }
   ],
   "source": [
    "print('%.2f%% of customers monthly income under 40000.' %(data.loc[data['MonthlyIncome']<=40000].shape[0]*100/data.shape[0]))\n",
    "#月收入绝大部分集中在40000以下，可画出对应的月收入的分布\n",
    "sns.distplot(data.loc[data['MonthlyIncome']<=40000,'MonthlyIncome'], bins=80, label='MonthlyIncome dist', kde=False)"
   ]
  },
  {
   "cell_type": "code",
   "execution_count": 12,
   "metadata": {},
   "outputs": [
    {
     "data": {
      "text/plain": [
       "<matplotlib.axes._subplots.AxesSubplot at 0x10e075978>"
      ]
     },
     "execution_count": 12,
     "metadata": {},
     "output_type": "execute_result"
    },
    {
     "data": {
      "image/png": "[encoded data removed]",
      "text/plain": [
       "<Figure size 432x288 with 1 Axes>"
      ]
     },
     "metadata": {},
     "output_type": "display_data"
    }
   ],
   "source": [
    "sns.distplot(data['age'], bins=30, label='age dist', kde=True)"
   ]
  },
  {
   "cell_type": "markdown",
   "metadata": {},
   "source": [
    "#### 特征工程"
   ]
  },
  {
   "cell_type": "code",
   "execution_count": 13,
   "metadata": {},
   "outputs": [],
   "source": [
    "#训练集与测试集划分\n",
    "from sklearn.model_selection import train_test_split\n",
    "\n",
    "y = data['SeriousDlqin2yrs']\n",
    "X = data.iloc[:,1:]\n",
    "X_train, X_test, y_train, y_test= train_test_split(X, y, test_size=0.3, random_state=10)"
   ]
  },
  {
   "cell_type": "code",
   "execution_count": 14,
   "metadata": {},
   "outputs": [],
   "source": [
    "# 定义最优分箱函数\n",
    "import scipy.stats as stats\n",
    "def mono_bin(Y, X, n = 20):\n",
    "    r = 0\n",
    "    total_bad=Y.sum()\n",
    "    total_good=Y.count()-total_bad\n",
    "    #print(total_bad, total_good)\n",
    "    while np.abs(r) < 1:\n",
    "        d1 = pd.DataFrame({\"X\": X, \"Y\": Y, \"Bucket\": pd.qcut(X, n)})\n",
    "        d2 = d1.groupby('Bucket', as_index = True)\n",
    "        r, p = stats.spearmanr(d2.mean().X, d2.mean().Y)\n",
    "        n = n - 1\n",
    "    d3 = pd.DataFrame(d2.X.min(), columns = ['min'])\n",
    "    d3['min']=d2.min().X\n",
    "    d3['max'] = d2.max().X\n",
    "    d3['bad'] = d2.sum().Y\n",
    "    d3['good'] = d2.count().Y-d3['bad']\n",
    "    d3['bad_rate'] = d2.mean().Y\n",
    "    d3['woe']=np.log(((d2.count().Y-d2.sum().Y)/total_good)/(d2.sum().Y/total_bad))\n",
    "    iv = ((d3['good']/total_good - d3['bad']/total_bad)*d3['woe']).sum()\n",
    "    d4 = (d3.sort_index(by = 'min')).reset_index(drop=True)\n",
    "    woe = list(d4['woe'].round(3))\n",
    "    cut=[]\n",
    "    cut.append(float('-inf'))\n",
    "    for i in range(1, n+1):\n",
    "        qua = X.quantile(i / (n+1))\n",
    "        cut.append(round(qua, 4))\n",
    "    cut.append(float('inf'))\n",
    "    \n",
    "    return d4, iv, cut, woe\n",
    "     "
   ]
  },
  {
   "cell_type": "code",
   "execution_count": 15,
   "metadata": {},
   "outputs": [
    {
     "data": {
      "text/plain": [
       "(   min  max   bad   good  bad_rate       woe\n",
       " 0   21   33  1816  14471  0.111500 -0.561845\n",
       " 1   34   40  1664  16073  0.093815 -0.369439\n",
       " 2   41   45  1360  14683  0.084772 -0.258150\n",
       " 3   46   49  1209  13619  0.081535 -0.215683\n",
       " 4   50   54  1298  16516  0.072864 -0.093851\n",
       " 5   55   59   913  15757  0.054769  0.210948\n",
       " 6   60   64   690  15923  0.041534  0.501473\n",
       " 7   65   71   414  14194  0.028341  0.897353\n",
       " 8   72   99   341  14403  0.023128  1.105954,\n",
       " 0.2414021266070617,\n",
       " [-inf, 33.0, 40.0, 45.0, 49.0, 54.0, 59.0, 64.0, 71.0, inf],\n",
       " [-0.562, -0.369, -0.258, -0.216, -0.094, 0.211, 0.501, 0.897, 1.106])"
      ]
     },
     "execution_count": 15,
     "metadata": {},
     "output_type": "execute_result"
    }
   ],
   "source": [
    "#举例，将‘age’最优分箱\n",
    "mono_bin(y, data['age'], n=10)"
   ]
  },
  {
   "cell_type": "code",
   "execution_count": 16,
   "metadata": {},
   "outputs": [
    {
     "data": {
      "text/plain": [
       "{'RevolvingUtilizationOfUnsecuredLines': 122950,\n",
       " 'age': 79,\n",
       " 'NumberOfTime30-59DaysPastDueNotWorse': 14,\n",
       " 'DebtRatio': 114065,\n",
       " 'MonthlyIncome': 13592,\n",
       " 'NumberOfOpenCreditLinesAndLoans': 58,\n",
       " 'NumberOfTimes90DaysLate': 17,\n",
       " 'NumberRealEstateLoansOrLines': 28,\n",
       " 'NumberOfTime60-89DaysPastDueNotWorse': 11,\n",
       " 'NumberOfDependents': 13}"
      ]
     },
     "execution_count": 16,
     "metadata": {},
     "output_type": "execute_result"
    }
   ],
   "source": [
    "#每个变量的个数，从而确定连续变量与分类变量\n",
    "var_lst=data.columns[1:]\n",
    "var_num={}\n",
    "for var in var_lst:\n",
    "    var_num[var]=len(data[var].unique())\n",
    "var_num"
   ]
  },
  {
   "cell_type": "code",
   "execution_count": 17,
   "metadata": {},
   "outputs": [],
   "source": [
    "#将四个连续变量最优分箱\n",
    "x1_df, x1_iv, x1_cut, x1_woe = mono_bin( y_train, X_train['RevolvingUtilizationOfUnsecuredLines'], n=10)\n",
    "x2_df, x2_iv, x2_cut, x2_woe = mono_bin( y_train, X_train['age'], n=10)\n",
    "x4_df, x4_iv, x4_cut, x4_woe = mono_bin( y_train, X_train['DebtRatio'], n=10)\n",
    "x5_df, x5_iv, x5_cut, x5_woe = mono_bin( y_train, X_train['MonthlyIncome'], n=10)"
   ]
  },
  {
   "cell_type": "code",
   "execution_count": 18,
   "metadata": {},
   "outputs": [],
   "source": [
    "#不能最优分箱的变量则进行手动分箱，WOE计算函数\n",
    "def woe_value(Y, X, cut):\n",
    "    total_bad=Y.sum()\n",
    "    total_good=Y.count()-total_bad\n",
    "    d1 = pd.DataFrame({\"X\": X, \"Y\": Y, \"Bucket\": cut})\n",
    "    d2 = d1.groupby('Bucket', as_index = True)\n",
    "    d3 = pd.DataFrame(d2.X.min(), columns = ['min'])\n",
    "    d3['min']=d2.min().X\n",
    "    d3['max'] = d2.max().X\n",
    "    d3['bad'] = d2.sum().Y\n",
    "    d3['good'] = d2.count().Y-d3['bad']\n",
    "    d3['bad_rate'] = d2.mean().Y\n",
    "    d3['woe']=np.log(((d2.count().Y-d2.sum().Y)/total_good)/(d2.sum().Y/total_bad))\n",
    "    iv = ((d3['good']/total_good - d3['bad']/total_bad)*d3['woe']).sum()\n",
    "    d4 = (d3.sort_index(by = 'min')).reset_index(drop=True)\n",
    "    woe = list(d4['woe'].round(3))\n",
    "    \n",
    "    return d4, iv, woe                   "
   ]
  },
  {
   "cell_type": "code",
   "execution_count": 19,
   "metadata": {},
   "outputs": [],
   "source": [
    "x3_cut = [-np.Inf, 0, 1, 3, 5, np.Inf]\n",
    "x6_cut = [-np.Inf, 1, 2, 3, 5, np.Inf]\n",
    "x7_cut = [-np.Inf, 0, 1, 3, 5, np.Inf]\n",
    "x8_cut = [-np.Inf, 0, 1, 2, 3, np.Inf]\n",
    "x9_cut = [-np.Inf, 0, 1, 3, np.Inf]\n",
    "x10_cut = [-np.Inf, 0, 1, 2, 3, 5, np.Inf]\n",
    "\n",
    "x3_bin = pd.cut(X_train['NumberOfTime30-59DaysPastDueNotWorse'], bins= x3_cut)\n",
    "x6_bin = pd.cut(X_train['NumberOfOpenCreditLinesAndLoans'], bins= x6_cut)\n",
    "x7_bin = pd.cut(X_train['NumberOfTimes90DaysLate'], bins=x7_cut)\n",
    "x8_bin = pd.cut(X_train['NumberRealEstateLoansOrLines'], bins=x8_cut)\n",
    "x9_bin = pd.cut(X_train['NumberOfTime60-89DaysPastDueNotWorse'], bins=x9_cut)\n",
    "x10_bin = pd.cut(X_train['NumberOfDependents'], bins=x10_cut)\n",
    "\n",
    "x3_df, x3_iv, x3_woe = woe_value(y_train, X_train['NumberOfTime30-59DaysPastDueNotWorse'], x3_bin)\n",
    "x6_df, x6_iv, x6_woe = woe_value(y_train, X_train['NumberOfOpenCreditLinesAndLoans'], x6_bin)\n",
    "x7_df, x7_iv, x7_woe = woe_value(y_train, X_train['NumberOfTimes90DaysLate'], x7_bin)\n",
    "x8_df, x8_iv, x8_woe = woe_value(y_train, X_train['NumberRealEstateLoansOrLines'], x8_bin)\n",
    "x9_df, x9_iv, x9_woe = woe_value(y_train, X_train['NumberOfTime60-89DaysPastDueNotWorse'], x9_bin)\n",
    "x10_df, x10_iv, x10_woe = woe_value(y_train, X_train['NumberOfDependents'], x10_bin)"
   ]
  },
  {
   "cell_type": "code",
   "execution_count": 20,
   "metadata": {},
   "outputs": [
    {
     "data": {
      "image/png": "[encoded data removed]",
      "text/plain": [
       "<Figure size 432x288 with 2 Axes>"
      ]
     },
     "metadata": {},
     "output_type": "display_data"
    }
   ],
   "source": [
    "#相关性分析\n",
    "corr = data.corr()\n",
    "xticks = ['x'+str(i) for i in range(12)]\n",
    "yticks = list(data.columns)\n",
    "fig = plt.figure()\n",
    "ax1 = fig.add_subplot(111)\n",
    "sns.heatmap(corr, cmap='GnBu', annot=True, ax= ax1, annot_kws={'size':6, 'color':'red'})\n",
    "ax1.set_xticklabels(xticks, rotation=0, fontsize=10)\n",
    "ax1.set_yticklabels(yticks, rotation=0, fontsize=10)\n",
    "plt.show()"
   ]
  },
  {
   "cell_type": "code",
   "execution_count": 21,
   "metadata": {},
   "outputs": [
    {
     "data": {
      "text/plain": [
       "Text(0,0.5,'IV')"
      ]
     },
     "execution_count": 21,
     "metadata": {},
     "output_type": "execute_result"
    },
    {
     "data": {
      "image/png": "[encoded data removed]",
      "text/plain": [
       "<Figure size 432x288 with 1 Axes>"
      ]
     },
     "metadata": {},
     "output_type": "display_data"
    }
   ],
   "source": [
    "#从相关系数热力图可以看出，自变量之间的线性相关性比较弱\n",
    "#画出每个变量的IV值\n",
    "iv = [eval('x'+str(i)+'_iv') for i in range(1,11)]\n",
    "index=['x'+str(i) for i in range(1,11)]\n",
    "sns.barplot(x=index, y=iv)\n",
    "plt.ylabel('IV')"
   ]
  },
  {
   "cell_type": "code",
   "execution_count": 22,
   "metadata": {},
   "outputs": [],
   "source": [
    "#选x1, x2, x3, x7, x9， IV>0.2高预测性\n",
    "#WOE编码\n",
    "x1= 'RevolvingUtilizationOfUnsecuredLines'\n",
    "x2= 'age'\n",
    "x3= 'NumberOfTime30-59DaysPastDueNotWorse'\n",
    "x7= 'NumberOfTimes90DaysLate'\n",
    "x9= 'NumberOfTime60-89DaysPastDueNotWorse'\n",
    "\n",
    "#定义WOE编码函数\n",
    "def woe_trans(data, var, woe, cut):\n",
    "    woe_name = var+'_woe'\n",
    "    for i in range(len(woe)):\n",
    "        if i == 0:\n",
    "            data.loc[(data[var]<=cut[i+1]), woe_name] = woe[i]\n",
    "        elif ((i>0) and (i<=(len(woe)-2))):\n",
    "            data.loc[((data[var]<=cut[i+1]) & (data[var]>cut[i])), woe_name] = woe[i]\n",
    "        else: \n",
    "            data.loc[(data[var]>cut[i]), woe_name] = woe[i]\n",
    "    return data\n"
   ]
  },
  {
   "cell_type": "code",
   "execution_count": 23,
   "metadata": {},
   "outputs": [],
   "source": [
    "for i in [1,2,3,7,9]:\n",
    "    X_train = woe_trans(X_train, eval('x'+str(i)), eval('x'+str(i)+'_woe'), eval('x'+str(i)+'_cut'))"
   ]
  },
  {
   "cell_type": "code",
   "execution_count": 24,
   "metadata": {},
   "outputs": [],
   "source": [
    "#选取WOE编码之后的列作为训练数据集\n",
    "X_train = X_train.iloc[:, -5:]"
   ]
  },
  {
   "cell_type": "markdown",
   "metadata": {},
   "source": [
    "### 4. 模型开发"
   ]
  },
  {
   "cell_type": "code",
   "execution_count": 25,
   "metadata": {},
   "outputs": [
    {
     "name": "stdout",
     "output_type": "stream",
     "text": [
      "Optimization terminated successfully.\n",
      "         Current function value: 0.185840\n",
      "         Iterations 8\n",
      "                           Logit Regression Results                           \n",
      "==============================================================================\n",
      "Dep. Variable:       SeriousDlqin2yrs   No. Observations:               101740\n",
      "Model:                          Logit   Df Residuals:                   101734\n",
      "Method:                           MLE   Df Model:                            5\n",
      "Date:                Thu, 20 Sep 2018   Pseudo R-squ.:                  0.2382\n",
      "Time:                        21:57:47   Log-Likelihood:                -18907.\n",
      "converged:                       True   LL-Null:                       -24820.\n",
      "                                        LLR p-value:                     0.000\n",
      "============================================================================================================\n",
      "                                               coef    std err          z      P>|z|      [0.025      0.975]\n",
      "------------------------------------------------------------------------------------------------------------\n",
      "const                                       -2.6195      0.015   -171.961      0.000      -2.649      -2.590\n",
      "RevolvingUtilizationOfUnsecuredLines_woe    -0.6441      0.016    -41.387      0.000      -0.675      -0.614\n",
      "age_woe                                     -0.4992      0.033    -15.294      0.000      -0.563      -0.435\n",
      "NumberOfTime30-59DaysPastDueNotWorse_woe    -0.5455      0.016    -34.470      0.000      -0.577      -0.515\n",
      "NumberOfTimes90DaysLate_woe                 -0.5683      0.014    -41.833      0.000      -0.595      -0.542\n",
      "NumberOfTime60-89DaysPastDueNotWorse_woe    -0.4019      0.017    -23.032      0.000      -0.436      -0.368\n",
      "============================================================================================================\n"
     ]
    }
   ],
   "source": [
    "#建立逻辑回归模型\n",
    "import statsmodels.api as sm\n",
    "X1=sm.add_constant(X_train)\n",
    "logit=sm.Logit(y_train, X1)\n",
    "result=logit.fit()\n",
    "print(result.summary())"
   ]
  },
  {
   "cell_type": "markdown",
   "metadata": {},
   "source": [
    "### 5. 模型评估"
   ]
  },
  {
   "cell_type": "code",
   "execution_count": 26,
   "metadata": {},
   "outputs": [],
   "source": [
    "#对测试集进行WOE编码\n",
    "for i in [1,2,3,7,9]:\n",
    "    X_test = woe_trans(X_test, eval('x'+str(i)), eval('x'+str(i)+'_woe'), eval('x'+str(i)+'_cut'))\n",
    "X_test = X_test.iloc[:, -5:]    "
   ]
  },
  {
   "cell_type": "code",
   "execution_count": 27,
   "metadata": {},
   "outputs": [
    {
     "data": {
      "image/png": "[encoded data removed]",
      "text/plain": [
       "<Figure size 432x288 with 1 Axes>"
      ]
     },
     "metadata": {},
     "output_type": "display_data"
    }
   ],
   "source": [
    "#绘制ROC曲线，计算AUC\n",
    "from sklearn import metrics\n",
    "X2=sm.add_constant(X_test)\n",
    "y_pred = result.predict(X2)\n",
    "\n",
    "fpr, tpr, threshold = metrics.roc_curve(y_test, y_pred)\n",
    "auc = metrics.auc(fpr, tpr)\n",
    "plt.plot(fpr, tpr, 'b', label='AUC=%.2f' %auc)\n",
    "plt.legend(loc='lower right')\n",
    "plt.plot([0,1], [0,1], 'r--')\n",
    "plt.xlim([0,1])\n",
    "plt.ylim([0,1])\n",
    "plt.xlabel('FPR')\n",
    "plt.ylabel('TPR')\n",
    "plt.show()"
   ]
  },
  {
   "cell_type": "markdown",
   "metadata": {},
   "source": [
    "### 6. 评分系统建立"
   ]
  },
  {
   "cell_type": "code",
   "execution_count": 28,
   "metadata": {},
   "outputs": [],
   "source": [
    "#分数计算函数\n",
    "PDO=20\n",
    "base=600\n",
    "#all_woe是某一个体所有相关变量woe编码值构成的序列\n",
    "#total_score = base- PDO*(all_woe.dot(coef))/np.log(2)\n",
    "factor= -PDO/np.log(2)\n",
    "coef = result.params\n",
    "def get_score(coef, woe, factor):\n",
    "    scores=[round(coef*woe[i]*factor, 0) for i in range(len(woe))]\n",
    "    return scores"
   ]
  },
  {
   "cell_type": "code",
   "execution_count": 29,
   "metadata": {},
   "outputs": [
    {
     "name": "stdout",
     "output_type": "stream",
     "text": [
      "[24.0, 23.0, 5.0, -20.0]\n"
     ]
    }
   ],
   "source": [
    "#计算各因子每个区间对应的分数\n",
    "x1_scores=get_score(coef[1], x1_woe, factor)\n",
    "print(x1_scores)\n",
    "x2_scores=get_score(coef[2], x2_woe, factor)\n",
    "x3_scores=get_score(coef[3], x3_woe, factor)\n",
    "x7_scores=get_score(coef[4], x7_woe, factor)\n",
    "x9_scores=get_score(coef[5], x9_woe, factor)"
   ]
  },
  {
   "cell_type": "code",
   "execution_count": 30,
   "metadata": {
    "scrolled": true
   },
   "outputs": [],
   "source": [
    "data.head()\n",
    "datacopy=data"
   ]
  },
  {
   "cell_type": "code",
   "execution_count": 31,
   "metadata": {},
   "outputs": [],
   "source": [
    "data=datacopy"
   ]
  },
  {
   "cell_type": "code",
   "execution_count": 32,
   "metadata": {},
   "outputs": [],
   "source": [
    "for i in [1,2,3,7,9]:\n",
    "    data = woe_trans(data, eval('x'+str(i)), eval('x'+str(i)+'_woe'), eval('x'+str(i)+'_cut'))\n",
    "data = data.iloc[:, -5:]"
   ]
  },
  {
   "cell_type": "code",
   "execution_count": 33,
   "metadata": {
    "scrolled": true
   },
   "outputs": [
    {
     "data": {
      "text/html": [
       "<div>\n",
       "<style scoped>\n",
       "    .dataframe tbody tr th:only-of-type {\n",
       "        vertical-align: middle;\n",
       "    }\n",
       "\n",
       "    .dataframe tbody tr th {\n",
       "        vertical-align: top;\n",
       "    }\n",
       "\n",
       "    .dataframe thead th {\n",
       "        text-align: right;\n",
       "    }\n",
       "</style>\n",
       "<table border=\"1\" class=\"dataframe\">\n",
       "  <thead>\n",
       "    <tr style=\"text-align: right;\">\n",
       "      <th></th>\n",
       "      <th>RevolvingUtilizationOfUnsecuredLines_woe</th>\n",
       "      <th>age_woe</th>\n",
       "      <th>NumberOfTime30-59DaysPastDueNotWorse_woe</th>\n",
       "      <th>NumberOfTimes90DaysLate_woe</th>\n",
       "      <th>NumberOfTime60-89DaysPastDueNotWorse_woe</th>\n",
       "      <th>score</th>\n",
       "    </tr>\n",
       "  </thead>\n",
       "  <tbody>\n",
       "    <tr>\n",
       "      <th>0</th>\n",
       "      <td>-1.097</td>\n",
       "      <td>-0.264</td>\n",
       "      <td>-1.720</td>\n",
       "      <td>0.373</td>\n",
       "      <td>0.267</td>\n",
       "      <td>534.0</td>\n",
       "    </tr>\n",
       "    <tr>\n",
       "      <th>1</th>\n",
       "      <td>-1.097</td>\n",
       "      <td>-0.371</td>\n",
       "      <td>0.515</td>\n",
       "      <td>0.373</td>\n",
       "      <td>0.267</td>\n",
       "      <td>567.0</td>\n",
       "    </tr>\n",
       "    <tr>\n",
       "      <th>2</th>\n",
       "      <td>-1.097</td>\n",
       "      <td>-0.371</td>\n",
       "      <td>-0.878</td>\n",
       "      <td>-1.969</td>\n",
       "      <td>0.267</td>\n",
       "      <td>507.0</td>\n",
       "    </tr>\n",
       "    <tr>\n",
       "      <th>3</th>\n",
       "      <td>0.284</td>\n",
       "      <td>-0.564</td>\n",
       "      <td>0.515</td>\n",
       "      <td>0.373</td>\n",
       "      <td>0.267</td>\n",
       "      <td>590.0</td>\n",
       "    </tr>\n",
       "    <tr>\n",
       "      <th>4</th>\n",
       "      <td>-1.097</td>\n",
       "      <td>-0.184</td>\n",
       "      <td>-0.878</td>\n",
       "      <td>0.373</td>\n",
       "      <td>0.267</td>\n",
       "      <td>548.0</td>\n",
       "    </tr>\n",
       "    <tr>\n",
       "      <th>5</th>\n",
       "      <td>0.284</td>\n",
       "      <td>1.094</td>\n",
       "      <td>0.515</td>\n",
       "      <td>0.373</td>\n",
       "      <td>0.267</td>\n",
       "      <td>614.0</td>\n",
       "    </tr>\n",
       "    <tr>\n",
       "      <th>6</th>\n",
       "      <td>0.284</td>\n",
       "      <td>0.216</td>\n",
       "      <td>0.515</td>\n",
       "      <td>0.373</td>\n",
       "      <td>0.267</td>\n",
       "      <td>601.0</td>\n",
       "    </tr>\n",
       "    <tr>\n",
       "      <th>7</th>\n",
       "      <td>-1.097</td>\n",
       "      <td>-0.371</td>\n",
       "      <td>0.515</td>\n",
       "      <td>0.373</td>\n",
       "      <td>0.267</td>\n",
       "      <td>567.0</td>\n",
       "    </tr>\n",
       "    <tr>\n",
       "      <th>9</th>\n",
       "      <td>0.284</td>\n",
       "      <td>0.216</td>\n",
       "      <td>0.515</td>\n",
       "      <td>0.373</td>\n",
       "      <td>0.267</td>\n",
       "      <td>601.0</td>\n",
       "    </tr>\n",
       "    <tr>\n",
       "      <th>10</th>\n",
       "      <td>-1.097</td>\n",
       "      <td>-0.564</td>\n",
       "      <td>0.515</td>\n",
       "      <td>0.373</td>\n",
       "      <td>0.267</td>\n",
       "      <td>564.0</td>\n",
       "    </tr>\n",
       "  </tbody>\n",
       "</table>\n",
       "</div>"
      ],
      "text/plain": [
       "    RevolvingUtilizationOfUnsecuredLines_woe  age_woe  \\\n",
       "0                                     -1.097   -0.264   \n",
       "1                                     -1.097   -0.371   \n",
       "2                                     -1.097   -0.371   \n",
       "3                                      0.284   -0.564   \n",
       "4                                     -1.097   -0.184   \n",
       "5                                      0.284    1.094   \n",
       "6                                      0.284    0.216   \n",
       "7                                     -1.097   -0.371   \n",
       "9                                      0.284    0.216   \n",
       "10                                    -1.097   -0.564   \n",
       "\n",
       "    NumberOfTime30-59DaysPastDueNotWorse_woe  NumberOfTimes90DaysLate_woe  \\\n",
       "0                                     -1.720                        0.373   \n",
       "1                                      0.515                        0.373   \n",
       "2                                     -0.878                       -1.969   \n",
       "3                                      0.515                        0.373   \n",
       "4                                     -0.878                        0.373   \n",
       "5                                      0.515                        0.373   \n",
       "6                                      0.515                        0.373   \n",
       "7                                      0.515                        0.373   \n",
       "9                                      0.515                        0.373   \n",
       "10                                     0.515                        0.373   \n",
       "\n",
       "    NumberOfTime60-89DaysPastDueNotWorse_woe  score  \n",
       "0                                      0.267  534.0  \n",
       "1                                      0.267  567.0  \n",
       "2                                      0.267  507.0  \n",
       "3                                      0.267  590.0  \n",
       "4                                      0.267  548.0  \n",
       "5                                      0.267  614.0  \n",
       "6                                      0.267  601.0  \n",
       "7                                      0.267  567.0  \n",
       "9                                      0.267  601.0  \n",
       "10                                     0.267  564.0  "
      ]
     },
     "execution_count": 33,
     "metadata": {},
     "output_type": "execute_result"
    }
   ],
   "source": [
    "#对整个data进行打分计算\n",
    "data_c=sm.add_constant(data)                                         \n",
    "data['score']=500 + round(data_c.dot(coef)*factor, 0)  \n",
    "data.head(10)"
   ]
  },
  {
   "cell_type": "code",
   "execution_count": null,
   "metadata": {},
   "outputs": [],
   "source": []
  }
 ],
 "metadata": {
  "kernelspec": {
   "display_name": "Python 3",
   "language": "python",
   "name": "python3"
  },
  "language_info": {
   "codemirror_mode": {
    "name": "ipython",
    "version": 3
   },
   "file_extension": ".py",
   "mimetype": "text/x-python",
   "name": "python",
   "nbconvert_exporter": "python",
   "pygments_lexer": "ipython3",
   "version": "3.6.5"
  }
 },
 "nbformat": 4,
 "nbformat_minor": 2
}
